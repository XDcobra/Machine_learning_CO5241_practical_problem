{
 "cells": [
  {
   "cell_type": "markdown",
   "metadata": {},
   "source": [
    "Practical Problem"
   ]
  },
  {
   "cell_type": "markdown",
   "metadata": {},
   "source": [
    "Question 1"
   ]
  },
  {
   "cell_type": "code",
   "execution_count": 13,
   "metadata": {},
   "outputs": [
    {
     "name": "stdout",
     "output_type": "stream",
     "text": [
      "Total Entropy before split: 1.0000\n",
      "Entropy (CreditScore <= 650): -0.0000\n",
      "Entropy (CreditScore > 650): -0.0000\n",
      "Weighted Entropy after split: -0.0000\n",
      "Information Gain for split at 650: 1.0000\n"
     ]
    }
   ],
   "source": [
    "import pandas as pd\n",
    "import numpy as np\n",
    "from math import log2\n",
    "\n",
    "# Step 1: Load data (Step 1: Extract Relevant Data)\n",
    "data = pd.read_csv('training_dataset.csv')\n",
    "\n",
    "# Drop rows with missing RiskLevel (safe check for entropy calculation)\n",
    "data = data.dropna(subset=['RiskLevel'])\n",
    "\n",
    "# Function to compute entropy (used in Step 2, 3, 4)\n",
    "def entropy(labels):\n",
    "    total = len(labels)\n",
    "    if total == 0:\n",
    "        return 0\n",
    "    probs = [labels.count(label) / total for label in set(labels)]\n",
    "    return -sum(p * log2(p) for p in probs if p > 0)\n",
    "\n",
    "# Step 2: Compute total entropy H(S)\n",
    "total_entropy = entropy(data['RiskLevel'].tolist())\n",
    "\n",
    "\n",
    "# Step 3: Split data at CreditScore = 650\n",
    "split_value = 650\n",
    "lower_group = data[data['CreditScore'] <= split_value]  # S1\n",
    "upper_group = data[data['CreditScore'] > split_value]   # S2\n",
    "\n",
    "# Step 4: Compute entropy of each group\n",
    "entropy_lower = entropy(lower_group['RiskLevel'].tolist())  # H(S1)\n",
    "entropy_upper = entropy(upper_group['RiskLevel'].tolist())  # H(S2)\n",
    "\n",
    "# Step 4 (continued): Weighted average entropy after split\n",
    "n = len(data)\n",
    "weighted_entropy = (len(lower_group) / n) * entropy_lower + (len(upper_group) / n) * entropy_upper\n",
    "\n",
    "# Step 5: Compute Information Gain\n",
    "info_gain = total_entropy - weighted_entropy\n",
    "\n",
    "# Step 6: Output results and interpretation\n",
    "print(f\"Total Entropy before split: {total_entropy:.4f}\")                         # Step 2\n",
    "print(f\"Entropy (CreditScore <= {split_value}): {entropy_lower:.4f}\")            # Step 3\n",
    "print(f\"Entropy (CreditScore > {split_value}): {entropy_upper:.4f}\")             # Step 3\n",
    "print(f\"Weighted Entropy after split: {weighted_entropy:.4f}\")                   # Step 4\n",
    "print(f\"Information Gain for split at {split_value}: {info_gain:.4f}\")           # Step 5\n"
   ]
  },
  {
   "cell_type": "markdown",
   "metadata": {},
   "source": [
    "Question 2"
   ]
  },
  {
   "cell_type": "code",
   "execution_count": 14,
   "metadata": {},
   "outputs": [
    {
     "name": "stdout",
     "output_type": "stream",
     "text": [
      "Total Variance before split: 3575.00\n",
      "Variance (Age <= 35): 1576.00\n",
      "Variance (Age > 35): 822.22\n",
      "Weighted Variance after split: 1293.33\n",
      "Variance Reduction: 2281.67\n"
     ]
    }
   ],
   "source": [
    "import pandas as pd\n",
    "\n",
    "# Load training data\n",
    "df = pd.read_csv('training_dataset.csv')\n",
    "\n",
    "# Step 1: Drop rows with missing CreditScore (target)\n",
    "df = df.dropna(subset=['CreditScore'])\n",
    "\n",
    "# Step 2: Split data at Age = 35\n",
    "split_value = 35\n",
    "left_group = df[df['Age'] <= split_value]\n",
    "right_group = df[df['Age'] > split_value]\n",
    "\n",
    "# Step 3: Define variance function\n",
    "def variance(values):\n",
    "    if len(values) == 0:\n",
    "        return 0\n",
    "    return values.var(ddof=0)  # population variance\n",
    "\n",
    "# Step 4: Calculate total variance before the split\n",
    "total_variance = variance(df['CreditScore'])\n",
    "\n",
    "# Step 5: Calculate weighted variance after split\n",
    "left_var = variance(left_group['CreditScore'])\n",
    "right_var = variance(right_group['CreditScore'])\n",
    "\n",
    "n = len(df)\n",
    "weighted_var = (len(left_group)/n) * left_var + (len(right_group)/n) * right_var\n",
    "\n",
    "# Step 6: Calculate variance reduction\n",
    "var_reduction = total_variance - weighted_var\n",
    "\n",
    "# Step 7: Output results\n",
    "print(f\"Total Variance before split: {total_variance:.2f}\")\n",
    "print(f\"Variance (Age <= {split_value}): {left_var:.2f}\")\n",
    "print(f\"Variance (Age > {split_value}): {right_var:.2f}\")\n",
    "print(f\"Weighted Variance after split: {weighted_var:.2f}\")\n",
    "print(f\"Variance Reduction: {var_reduction:.2f}\")\n"
   ]
  }
 ],
 "metadata": {
  "kernelspec": {
   "display_name": "Python 3",
   "language": "python",
   "name": "python3"
  },
  "language_info": {
   "codemirror_mode": {
    "name": "ipython",
    "version": 3
   },
   "file_extension": ".py",
   "mimetype": "text/x-python",
   "name": "python",
   "nbconvert_exporter": "python",
   "pygments_lexer": "ipython3",
   "version": "3.11.9"
  }
 },
 "nbformat": 4,
 "nbformat_minor": 2
}
