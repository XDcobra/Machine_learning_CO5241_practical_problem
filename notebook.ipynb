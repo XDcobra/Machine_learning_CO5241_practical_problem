{
 "cells": [
  {
   "cell_type": "markdown",
   "metadata": {},
   "source": [
    "Practical Problem"
   ]
  },
  {
   "cell_type": "markdown",
   "metadata": {},
   "source": [
    "Question 2"
   ]
  },
  {
   "cell_type": "code",
   "execution_count": null,
   "metadata": {},
   "outputs": [],
   "source": [
    "import pandas as pd\n",
    "\n",
    "# Load training data\n",
    "df = pd.read_csv('training_dataset.csv')\n",
    "\n",
    "# Step 1: Drop rows with missing CreditScore (target)\n",
    "df = df.dropna(subset=['CreditScore'])\n",
    "\n",
    "# Step 2: Split data at Age = 35\n",
    "split_value = 35\n",
    "left_group = df[df['Age'] <= split_value]\n",
    "right_group = df[df['Age'] > split_value]\n",
    "\n",
    "# Step 3: Define variance function\n",
    "def variance(values):\n",
    "    if len(values) == 0:\n",
    "        return 0\n",
    "    return values.var(ddof=0)  # population variance"
   ]
  }
 ],
 "metadata": {
  "kernelspec": {
   "display_name": "Python 3",
   "language": "python",
   "name": "python3"
  },
  "language_info": {
   "codemirror_mode": {
    "name": "ipython",
    "version": 3
   },
   "file_extension": ".py",
   "mimetype": "text/x-python",
   "name": "python",
   "nbconvert_exporter": "python",
   "pygments_lexer": "ipython3",
   "version": "3.11.9"
  }
 },
 "nbformat": 4,
 "nbformat_minor": 2
}
