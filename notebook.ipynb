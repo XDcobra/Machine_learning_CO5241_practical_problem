{
 "cells": [
  {
   "cell_type": "markdown",
   "metadata": {},
   "source": [
    "Practical Problem"
   ]
  },
  {
   "cell_type": "markdown",
   "metadata": {},
   "source": [
    "Question 3"
   ]
  },
  {
   "cell_type": "code",
   "execution_count": null,
   "metadata": {},
   "outputs": [
    {
     "name": "stdout",
     "output_type": "stream",
     "text": [
      "Number of similar training samples: 3\n",
      "Probability of High Risk for T2: 1.00\n",
      "Probability of Low Risk for T2: 0.00\n"
     ]
    }
   ],
   "source": [
    "import pandas as pd\n",
    "\n",
    "# Step 1: Load data\n",
    "train = pd.read_csv(\"training_dataset.csv\")\n",
    "test = pd.read_csv(\"test_dataset.csv\")\n",
    "\n",
    "# Step 2: Drop rows with missing RiskLevel in training data\n",
    "train = train.dropna(subset=[\"RiskLevel\"])\n",
    "\n",
    "# Step 3: Extract test case T2\n",
    "t2 = test[test['ID'] == 'T2'].iloc[0]\n",
    "t2_age = t2['Age']\n",
    "t2_credit = t2['CreditScore']\n",
    "\n",
    "# Step 4: Define similarity based on Age ±3 and CreditScore ±20\n",
    "def is_similar(row, age_tol=3, credit_tol=20):\n",
    "    return abs(row['Age'] - t2_age) <= age_tol and abs(row['CreditScore'] - t2_credit) <= credit_tol\n",
    "\n",
    "# Step 5: Select similar training rows\n",
    "similar_rows = train[train.apply(is_similar, axis=1)]\n",
    "\n"
   ]
  }
 ],
 "metadata": {
  "kernelspec": {
   "display_name": "Python 3",
   "language": "python",
   "name": "python3"
  },
  "language_info": {
   "codemirror_mode": {
    "name": "ipython",
    "version": 3
   },
   "file_extension": ".py",
   "mimetype": "text/x-python",
   "name": "python",
   "nbconvert_exporter": "python",
   "pygments_lexer": "ipython3",
   "version": "3.11.9"
  }
 },
 "nbformat": 4,
 "nbformat_minor": 2
}
