{
 "cells": [
  {
   "cell_type": "markdown",
   "metadata": {},
   "source": [
    "Practical Problem"
   ]
  },
  {
   "cell_type": "markdown",
   "metadata": {},
   "source": [
    "Question 4"
   ]
  },
  {
   "cell_type": "code",
   "execution_count": null,
   "metadata": {},
   "outputs": [
    {
     "name": "stdout",
     "output_type": "stream",
     "text": [
      "Initial Cost: 878.12\n",
      "Gradient θ₀: -1.25, θ₁: -263.75\n",
      "Updated θ₀: 500.01\n",
      "Updated θ₁: 7.64\n"
     ]
    }
   ],
   "source": [
    "import pandas as pd\n",
    "import numpy as np\n",
    "\n",
    "# Step 1: Load training data\n",
    "df = pd.read_csv('training_dataset.csv')\n",
    "\n",
    "# Step 2: Remove rows with missing CreditScore\n",
    "df = df.dropna(subset=['CreditScore'])\n",
    "\n",
    "# Step 3: Extract feature and target\n",
    "X = df['Age'].values\n",
    "y = df['CreditScore'].values\n",
    "n = len(X)\n",
    "\n",
    "# Step 4: Initialize parameters\n",
    "theta_0 = 500\n",
    "theta_1 = 5\n",
    "alpha = 0.01\n",
    "\n",
    "\n"
   ]
  }
 ],
 "metadata": {
  "kernelspec": {
   "display_name": "Python 3",
   "language": "python",
   "name": "python3"
  },
  "language_info": {
   "codemirror_mode": {
    "name": "ipython",
    "version": 3
   },
   "file_extension": ".py",
   "mimetype": "text/x-python",
   "name": "python",
   "nbconvert_exporter": "python",
   "pygments_lexer": "ipython3",
   "version": "3.11.9"
  }
 },
 "nbformat": 4,
 "nbformat_minor": 2
}
