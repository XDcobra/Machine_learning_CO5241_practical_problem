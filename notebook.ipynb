{
 "cells": [
  {
   "cell_type": "markdown",
   "metadata": {},
   "source": [
    "Practical Problem"
   ]
  },
  {
   "cell_type": "markdown",
   "metadata": {},
   "source": [
    "Question 1"
   ]
  },
  {
   "cell_type": "code",
   "execution_count": 10,
   "metadata": {},
   "outputs": [
    {
     "name": "stdout",
     "output_type": "stream",
     "text": [
      "Total Entropy before split: 1.0000\n",
      "Entropy (CreditScore <= 650): -0.0000\n",
      "Entropy (CreditScore > 650): -0.0000\n",
      "Weighted Entropy after split: -0.0000\n",
      "Information Gain for split at 650: 1.0000\n"
     ]
    }
   ],
   "source": [
    "import pandas as pd\n",
    "import numpy as np\n",
    "from math import log2\n",
    "\n",
    "# Step 1: Load data (Step 1: Extract Relevant Data)\n",
    "data = pd.read_csv('training_dataset.csv')\n",
    "\n",
    "# Drop rows with missing RiskLevel (safe check for entropy calculation)\n",
    "data = data.dropna(subset=['RiskLevel'])\n",
    "\n",
    "# Function to compute entropy (used in Step 2, 3, 4)\n",
    "def entropy(labels):\n",
    "    total = len(labels)\n",
    "    if total == 0:\n",
    "        return 0\n",
    "    probs = [labels.count(label) / total for label in set(labels)]\n",
    "    return -sum(p * log2(p) for p in probs if p > 0)\n",
    "\n",
    "# Step 2: Compute total entropy H(S)\n",
    "total_entropy = entropy(data['RiskLevel'].tolist())\n",
    "\n",
    "\n",
    "# Step 3: Split data at CreditScore = 650\n",
    "split_value = 650\n",
    "lower_group = data[data['CreditScore'] <= split_value]  # S1\n",
    "upper_group = data[data['CreditScore'] > split_value]   # S2\n",
    "\n",
    "# Step 4: Compute entropy of each group\n",
    "entropy_lower = entropy(lower_group['RiskLevel'].tolist())  # H(S1)\n",
    "entropy_upper = entropy(upper_group['RiskLevel'].tolist())  # H(S2)\n",
    "\n",
    "# Step 4 (continued): Weighted average entropy after split\n",
    "n = len(data)\n",
    "weighted_entropy = (len(lower_group) / n) * entropy_lower + (len(upper_group) / n) * entropy_upper\n",
    "\n",
    "# Step 5: Compute Information Gain\n",
    "info_gain = total_entropy - weighted_entropy\n",
    "\n",
    "# Step 6: Output results and interpretation\n",
    "print(f\"Total Entropy before split: {total_entropy:.4f}\")                         # Step 2\n",
    "print(f\"Entropy (CreditScore <= {split_value}): {entropy_lower:.4f}\")            # Step 3\n",
    "print(f\"Entropy (CreditScore > {split_value}): {entropy_upper:.4f}\")             # Step 3\n",
    "print(f\"Weighted Entropy after split: {weighted_entropy:.4f}\")                   # Step 4\n",
    "print(f\"Information Gain for split at {split_value}: {info_gain:.4f}\")           # Step 5"
   ]
  },
  {
   "cell_type": "markdown",
   "metadata": {},
   "source": [
    "Question 2"
   ]
  },
  {
   "cell_type": "code",
   "execution_count": 11,
   "metadata": {},
   "outputs": [
    {
     "name": "stdout",
     "output_type": "stream",
     "text": [
      "Total Variance before split: 3575.00\n",
      "Variance (Age <= 35): 1576.00\n",
      "Variance (Age > 35): 822.22\n",
      "Weighted Variance after split: 1293.33\n",
      "Variance Reduction: 2281.67\n"
     ]
    }
   ],
   "source": [
    "import pandas as pd\n",
    "\n",
    "# Load training data\n",
    "df = pd.read_csv('training_dataset.csv')\n",
    "\n",
    "# Step 1: Drop rows with missing CreditScore (target)\n",
    "df = df.dropna(subset=['CreditScore'])\n",
    "\n",
    "# Step 2: Split data at Age = 35\n",
    "split_value = 35\n",
    "left_group = df[df['Age'] <= split_value]\n",
    "right_group = df[df['Age'] > split_value]\n",
    "\n",
    "# Step 3: Define variance function\n",
    "def variance(values):\n",
    "    if len(values) == 0:\n",
    "        return 0\n",
    "    return values.var(ddof=0)  # population variance\n",
    "\n",
    "# Step 4: Calculate total variance before the split\n",
    "total_variance = variance(df['CreditScore'])\n",
    "\n",
    "# Step 5: Calculate weighted variance after split\n",
    "left_var = variance(left_group['CreditScore'])\n",
    "right_var = variance(right_group['CreditScore'])\n",
    "\n",
    "n = len(df)\n",
    "weighted_var = (len(left_group)/n) * left_var + (len(right_group)/n) * right_var\n",
    "\n",
    "# Step 6: Calculate variance reduction\n",
    "var_reduction = total_variance - weighted_var\n",
    "\n",
    "# Step 7: Output results\n",
    "print(f\"Total Variance before split: {total_variance:.2f}\")\n",
    "print(f\"Variance (Age <= {split_value}): {left_var:.2f}\")\n",
    "print(f\"Variance (Age > {split_value}): {right_var:.2f}\")\n",
    "print(f\"Weighted Variance after split: {weighted_var:.2f}\")\n",
    "print(f\"Variance Reduction: {var_reduction:.2f}\")"
   ]
  },
  {
   "cell_type": "markdown",
   "metadata": {},
   "source": [
    "Question 3"
   ]
  },
  {
   "cell_type": "code",
   "execution_count": 12,
   "metadata": {},
   "outputs": [
    {
     "name": "stdout",
     "output_type": "stream",
     "text": [
      "Number of similar training samples: 3\n",
      "Probability of High Risk for T2: 1.00\n",
      "Probability of Low Risk for T2: 0.00\n"
     ]
    }
   ],
   "source": [
    "import pandas as pd\n",
    "\n",
    "# Step 1: Load data\n",
    "train = pd.read_csv(\"training_dataset.csv\")\n",
    "test = pd.read_csv(\"test_dataset.csv\")\n",
    "\n",
    "# Step 2: Drop rows with missing RiskLevel in training data\n",
    "train = train.dropna(subset=[\"RiskLevel\"])\n",
    "\n",
    "# Step 3: Extract test case T2\n",
    "t2 = test[test['ID'] == 'T2'].iloc[0]\n",
    "t2_age = t2['Age']\n",
    "t2_credit = t2['CreditScore']\n",
    "\n",
    "# Step 4: Define similarity based on Age ±3 and CreditScore ±20\n",
    "def is_similar(row, age_tol=3, credit_tol=20):\n",
    "    return abs(row['Age'] - t2_age) <= age_tol and abs(row['CreditScore'] - t2_credit) <= credit_tol\n",
    "\n",
    "# Step 5: Select similar training rows\n",
    "similar_rows = train[train.apply(is_similar, axis=1)]\n",
    "\n",
    "# Step 6: Calculate proportions of RiskLevel\n",
    "risk_counts = similar_rows['RiskLevel'].value_counts(normalize=True)\n",
    "\n",
    "# Step 7: Output estimated probabilities\n",
    "p_high = risk_counts.get('High', 0)\n",
    "p_low = risk_counts.get('Low', 0)\n",
    "\n",
    "print(f\"Number of similar training samples: {len(similar_rows)}\")\n",
    "print(f\"Probability of High Risk for T2: {p_high:.2f}\")\n",
    "print(f\"Probability of Low Risk for T2: {p_low:.2f}\")"
   ]
  },
  {
   "cell_type": "markdown",
   "metadata": {},
   "source": [
    "Question 4"
   ]
  },
  {
   "cell_type": "code",
   "execution_count": 13,
   "metadata": {},
   "outputs": [
    {
     "name": "stdout",
     "output_type": "stream",
     "text": [
      "Initial Cost: 878.12\n",
      "Gradient θ₀: -1.25, θ₁: -263.75\n",
      "Updated θ₀: 500.01\n",
      "Updated θ₁: 7.64\n"
     ]
    }
   ],
   "source": [
    "import pandas as pd\n",
    "import numpy as np\n",
    "\n",
    "# Step 1: Load training data\n",
    "df = pd.read_csv('training_dataset.csv')\n",
    "\n",
    "# Step 2: Remove rows with missing CreditScore\n",
    "df = df.dropna(subset=['CreditScore'])\n",
    "\n",
    "# Step 3: Extract feature and target\n",
    "X = df['Age'].values\n",
    "y = df['CreditScore'].values\n",
    "n = len(X)\n",
    "\n",
    "# Step 4: Initialize parameters\n",
    "theta_0 = 500\n",
    "theta_1 = 5\n",
    "alpha = 0.01\n",
    "\n",
    "# Step 5: Compute predictions\n",
    "y_pred = theta_0 + theta_1 * X\n",
    "\n",
    "# Step 6: Compute cost function (Mean Squared Error)\n",
    "cost = np.mean((y_pred - y) ** 2)\n",
    "\n",
    "# Step 7: Compute gradients\n",
    "grad_0 = (2/n) * np.sum(y_pred - y)\n",
    "grad_1 = (2/n) * np.sum((y_pred - y) * X)\n",
    "\n",
    "# Step 8: Update parameters\n",
    "theta_0_new = theta_0 - alpha * grad_0\n",
    "theta_1_new = theta_1 - alpha * grad_1\n",
    "\n",
    "# Step 9: Output results\n",
    "print(f\"Initial Cost: {cost:.2f}\")\n",
    "print(f\"Gradient θ₀: {grad_0:.2f}, θ₁: {grad_1:.2f}\")\n",
    "print(f\"Updated θ₀: {theta_0_new:.2f}\")\n",
    "print(f\"Updated θ₁: {theta_1_new:.2f}\")"
   ]
  }
 ],
 "metadata": {
  "kernelspec": {
   "display_name": "Python 3",
   "language": "python",
   "name": "python3"
  },
  "language_info": {
   "codemirror_mode": {
    "name": "ipython",
    "version": 3
   },
   "file_extension": ".py",
   "mimetype": "text/x-python",
   "name": "python",
   "nbconvert_exporter": "python",
   "pygments_lexer": "ipython3",
   "version": "3.11.9"
  }
 },
 "nbformat": 4,
 "nbformat_minor": 2
}
